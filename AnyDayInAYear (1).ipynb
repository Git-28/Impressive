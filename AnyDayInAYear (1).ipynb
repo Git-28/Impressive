{
 "cells": [
  {
   "cell_type": "code",
   "execution_count": 4,
   "id": "647d12da",
   "metadata": {},
   "outputs": [
    {
     "name": "stdout",
     "output_type": "stream",
     "text": [
      "The date 366 days from 2023-12-31 is: 2024-12-31\n"
     ]
    }
   ],
   "source": [
    "from datetime import datetime, timedelta\n",
    "\n",
    "def find_nth_day_from_date(given_date, n):\n",
    "    # Convert the given date string to a datetime object\n",
    "    date_format = \"%Y-%m-%d\"  # You can change the format based on your input\n",
    "    input_date = datetime.strptime(given_date, date_format)\n",
    "\n",
    "    # Calculate the nth day from the given date\n",
    "    nth_day = input_date + timedelta(days=n)\n",
    "\n",
    "    # Format the result back to the desired format\n",
    "    result_date = nth_day.strftime(date_format)\n",
    "    \n",
    "    return result_date\n",
    "\n",
    "# Example usage:\n",
    "given_date = \"2023-12-31\"  # Replace this with your desired date\n",
    "n = 366  # Replace this with the number of days ahead\n",
    "\n",
    "result = find_nth_day_from_date(given_date, n)\n",
    "print(f\"The date {n} days from {given_date} is: {result}\")\n"
   ]
  }
 ],
 "metadata": {
  "kernelspec": {
   "display_name": "Python 3 (ipykernel)",
   "language": "python",
   "name": "python3"
  },
  "language_info": {
   "codemirror_mode": {
    "name": "ipython",
    "version": 3
   },
   "file_extension": ".py",
   "mimetype": "text/x-python",
   "name": "python",
   "nbconvert_exporter": "python",
   "pygments_lexer": "ipython3",
   "version": "3.10.9"
  }
 },
 "nbformat": 4,
 "nbformat_minor": 5
}
