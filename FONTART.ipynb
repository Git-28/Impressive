{
 "cells": [
  {
   "cell_type": "code",
   "execution_count": 1,
   "id": "bd26b30e",
   "metadata": {},
   "outputs": [
    {
     "name": "stdout",
     "output_type": "stream",
     "text": [
      "Defaulting to user installation because normal site-packages is not writeable\n",
      "Requirement already satisfied: pyfiglet in c:\\users\\nikhil sukthe\\appdata\\roaming\\python\\python310\\site-packages (1.0.2)\n",
      "Note: you may need to restart the kernel to use updated packages.\n"
     ]
    }
   ],
   "source": [
    "pip install pyfiglet"
   ]
  },
  {
   "cell_type": "code",
   "execution_count": 5,
   "id": "0fd18ba4",
   "metadata": {},
   "outputs": [
    {
     "name": "stdout",
     "output_type": "stream",
     "text": [
      " _   _ _ _    _     _ _    _                   _      __   __            \n",
      "| \\ | (_) | _| |__ (_) |  | |    _____   _____( )___  \\ \\ / /__  _   _   \n",
      "|  \\| | | |/ / '_ \\| | |  | |   / _ \\ \\ / / _ \\// __|  \\ V / _ \\| | | |  \n",
      "| |\\  | |   <| | | | | |  | |__| (_) \\ V /  __/ \\__ \\   | | (_) | |_| |  \n",
      "|_| \\_|_|_|\\_\\_| |_|_|_|  |_____\\___/ \\_/ \\___| |___/   |_|\\___/ \\__,_|  \n",
      "                                                                         \n",
      "                        \n",
      " _   _    _   _         \n",
      "| | | |  | | | |        \n",
      "| |_| |  | |_| |  _ _ _ \n",
      " \\__,_|   \\__,_| (_|_|_)\n",
      "                        \n",
      "\n"
     ]
    }
   ],
   "source": [
    "import pyfiglet\n",
    "font=pyfiglet.figlet_format(\"Nikhil  Love's You   u  u ...\")\n",
    "print(font)"
   ]
  }
 ],
 "metadata": {
  "kernelspec": {
   "display_name": "Python 3 (ipykernel)",
   "language": "python",
   "name": "python3"
  },
  "language_info": {
   "codemirror_mode": {
    "name": "ipython",
    "version": 3
   },
   "file_extension": ".py",
   "mimetype": "text/x-python",
   "name": "python",
   "nbconvert_exporter": "python",
   "pygments_lexer": "ipython3",
   "version": "3.10.9"
  }
 },
 "nbformat": 4,
 "nbformat_minor": 5
}
